{
 "cells": [
  {
   "cell_type": "code",
   "execution_count": 1,
   "metadata": {},
   "outputs": [],
   "source": [
    "#!/usr/bin/env python\n",
    "\n",
    "import math\n",
    "import cairo\n",
    "from datetime import datetime, date, time"
   ]
  },
  {
   "cell_type": "code",
   "execution_count": 2,
   "metadata": {},
   "outputs": [],
   "source": [
    "WIDTH, HEIGHT = 256, 256\n",
    "\n",
    "surface = cairo.ImageSurface(cairo.FORMAT_ARGB32, WIDTH, HEIGHT)\n",
    "ctx = cairo.Context(surface)\n",
    "\n",
    "ctx.scale(WIDTH, HEIGHT)  # Normalizing the canvas\n",
    "\n",
    "pat = cairo.LinearGradient(0.0, 0.0, 0.0, 1.0)\n",
    "pat.add_color_stop_rgba(1, 0.7, 0, 0, 0.5)  # First stop, 50% opacity\n",
    "pat.add_color_stop_rgba(0, 0.9, 0.7, 0.2, 1)  # Last stop, 100% opacity\n",
    "\n",
    "ctx.rectangle(0, 0, 1, 1)  # Rectangle(x0, y0, x1, y1)\n",
    "ctx.set_source(pat)\n",
    "ctx.fill()\n",
    "\n",
    "ctx.translate(0.1, 0.1)  # Changing the current transformation matrix\n",
    "\n",
    "ctx.move_to(0, 0)\n",
    "# Arc(cx, cy, radius, start_angle, stop_angle)\n",
    "ctx.arc(0.2, 0.1, 0.1, -math.pi / 2, 0)\n",
    "ctx.line_to(0.5, 0.1)  # Line to (x,y)\n",
    "# Curve(x1, y1, x2, y2, x3, y3)\n",
    "ctx.curve_to(0.5, 0.2, 0.5, 0.4, 0.2, 0.8)\n",
    "ctx.close_path()\n",
    "\n",
    "ctx.set_source_rgb(0.3, 0.2, 0.5)  # Solid color\n",
    "ctx.set_line_width(0.02)\n",
    "ctx.stroke()\n",
    "\n",
    "surface.write_to_png(\"example.png\")  # Output to PNG"
   ]
  },
  {
   "cell_type": "code",
   "execution_count": 3,
   "metadata": {},
   "outputs": [],
   "source": [
    "Fenetre = cairo.Context(surface)"
   ]
  },
  {
   "cell_type": "code",
   "execution_count": 4,
   "metadata": {},
   "outputs": [],
   "source": [
    "#Variables\n",
    "margeH = 10\n",
    "margeV = 120\n",
    "margeV2 = 50\n",
    "larg = 1000\n",
    "haut = 500\n",
    "cell_dim = 18\n",
    "jours = [\"LUNDI\", \"MARDI\", \"MERCREDI\", \"JEUDI\", \"VENDREDI\", \"SAMEDI\"]\n",
    "heures = [\"8:0\", \"8:30\", \"9:0\", \"9:30\", \"10:0\", \"10:30\", \"11:0\", \"11:30\", \"12:0\", \"12:30\", \"13:0\", \"13:30\", \"14:0\", \"14:30\", \"15:0\", \"15:30\", \"16:0\", \"16:30\", \"17:0\", \"17:30\", \"18:0\", \"18:30\", \"19:0\", \"19:30\"]\n",
    "cell_larg = (larg - cell_dim) / len(heures)\n",
    "cell_haut = (haut - cell_dim) / len(jours)\n",
    "#logofile = \"files/logoALL.png\"\n",
    "logofile = \"files/logoALL.png\"\n"
   ]
  },
  {
   "cell_type": "code",
   "execution_count": 5,
   "metadata": {},
   "outputs": [],
   "source": [
    "WIDTH, HEIGHT = 256, 256\n",
    "surface = cairo.ImageSurface(cairo.FORMAT_ARGB32, WIDTH, HEIGHT)\n",
    "Fenetre.scale(WIDTH, HEIGHT)  # Normalizing the canvas"
   ]
  },
  {
   "cell_type": "code",
   "execution_count": null,
   "metadata": {},
   "outputs": [],
   "source": [
    "\n",
    "#graphismes\n",
    "def ligneH (y, larg):\n",
    "    zone_dessin.create_line(margeH, margeV+y, margeH+larg, margeV+y, fill=\"black\", width=1)\n",
    "    \n",
    "def ligneV (x, y, haut):\n",
    "    zone_dessin.create_line(margeH+x, margeV+y, margeH+x, margeV+y+haut, fill=\"black\", width=1)\n",
    "\n",
    "def place_txt(x, y, text, size, orientation):\n",
    "    #zone_dessin.create_text (margeH+x, margeV+y, angle=orientation, text=text, anchor='nw', font=('TkMenuFont', size))\n",
    "    zone_dessin.create_text (margeH+x, margeV+y, angle=orientation, text=text, anchor='nw', font=('Calibri', size))\n",
    "\n",
    "def trace_grille ():\n",
    "    font_size = 10\n",
    "    ligneV (0, 0, haut)\n",
    "    ligneV (cell_dim, 0, haut)\n",
    "    ligneV (larg, 0, haut)\n",
    "    \n",
    "    ligneH (0, larg)\n",
    "    ligneH (cell_dim, larg)\n",
    "    for j in range (len(heures)):\n",
    "        ligneV (cell_dim + (j*(cell_larg)), 0, cell_dim)\n",
    "        place_txt (2+cell_dim + (j*(cell_larg)) ,2, heures[j], font_size, 0)\n",
    "\n",
    "    for i in range (len(jours)):\n",
    "        ligneH (((1+i)*(cell_haut)), larg)\n",
    "        ligneH (((1+i)*(cell_haut))+cell_dim, larg)\n",
    "        place_txt (1, -5+((1+i)*(cell_haut)), jours[i], font_size, 90)\n",
    "        \n",
    "        for j in range (len(heures)):\n",
    "            ligneV (cell_dim + (j*(cell_larg)), (1+i)*(cell_haut), cell_dim)\n",
    "            place_txt (2+cell_dim + (j*(cell_larg)),2+ (i+1)*(cell_haut), heures[j], font_size, 0)\n",
    "\n",
    "\n",
    "img = PhotoImage(file = logofile, master = Fenetre)\n",
    "logo1 = zone_dessin.create_image(80, 60, image = img)\n",
    "\n",
    "trace_grille()\n"
   ]
  }
 ],
 "metadata": {
  "kernelspec": {
   "display_name": "Python 3",
   "language": "python",
   "name": "python3"
  },
  "language_info": {
   "codemirror_mode": {
    "name": "ipython",
    "version": 3
   },
   "file_extension": ".py",
   "mimetype": "text/x-python",
   "name": "python",
   "nbconvert_exporter": "python",
   "pygments_lexer": "ipython3",
   "version": "3.8.5"
  }
 },
 "nbformat": 4,
 "nbformat_minor": 4
}

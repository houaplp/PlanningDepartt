{
 "cells": [
  {
   "cell_type": "markdown",
   "metadata": {},
   "source": [
    "# Classes\n"
   ]
  },
  {
   "cell_type": "markdown",
   "metadata": {},
   "source": [
    "## Enseignant"
   ]
  },
  {
   "cell_type": "code",
   "execution_count": 1,
   "metadata": {},
   "outputs": [],
   "source": [
    "class Enseignant:\n",
    "    def __init__(self, nom, prénom, statut, cours):\n",
    "        self.nom = nom\n",
    "        self.prénom=prénom\n",
    "        self.telephone=\"nil\"\n",
    "        self.mail_ujm=\"nil\"\n",
    "        self.mail_perso=\"nil\"\n",
    "        self.adresse=\"nil\"\n",
    "        self.statut=statut\n",
    "        self.cours=cours\n",
    "        self.service=0\n"
   ]
  },
  {
   "cell_type": "code",
   "execution_count": 2,
   "metadata": {},
   "outputs": [],
   "source": [
    "import os\n",
    "import math\n",
    "import glob\n",
    "import re\n",
    "import numpy as np\n",
    "import pandas as pd\n",
    "import matplotlib.pyplot as plt\n"
   ]
  },
  {
   "cell_type": "code",
   "execution_count": 3,
   "metadata": {},
   "outputs": [],
   "source": [
    "os.chdir(\"/Users/laurentpottier/Documents/LP/Recherches/Dir_Departement/\")\n"
   ]
  },
  {
   "cell_type": "code",
   "execution_count": 4,
   "metadata": {},
   "outputs": [],
   "source": [
    "#X = pd.read_excel(\"Services_enseignants2021-22d.xlsx\",sheet_name=0,header=0,index_col=0)"
   ]
  },
  {
   "cell_type": "code",
   "execution_count": 5,
   "metadata": {},
   "outputs": [],
   "source": [
    "X = pd.read_excel(\"/Users/laurentpottier/Documents/LP/Recherches/Dir_Departement/Python_Planning/Services_enseignants2021-22d.xlsx\",sheet_name=0,header=0,index_col=0)"
   ]
  },
  {
   "cell_type": "code",
   "execution_count": 6,
   "metadata": {},
   "outputs": [
    {
     "name": "stdout",
     "output_type": "stream",
     "text": [
      "(168, 20)\n"
     ]
    }
   ],
   "source": [
    "print(X.shape) # (18, 6)"
   ]
  },
  {
   "cell_type": "code",
   "execution_count": 7,
   "metadata": {},
   "outputs": [
    {
     "name": "stdout",
     "output_type": "stream",
     "text": [
      "      HETD  TD(1) CM(1.5)  heures Niveau     UE      UE titre placé  groupes  \\\n",
      "Label                                                                          \n",
      "1       24            1.0    24.0  L1-S1  UE1-A          TICE     x      2.0   \n",
      "2       18            1.0    18.0  L1-S1  UE1-B  Methodologie     x      1.0   \n",
      "3       18            1.0    18.0  L1-S1  UE1-B  Methodologie     x      1.0   \n",
      "4       18            1.0    18.0  L1-S1  UE2-A      Français     x      1.0   \n",
      "5       18            1.0    18.0  L1-S1  UE2-A      Français     x      1.0   \n",
      "...    ...            ...     ...    ...    ...           ...   ...      ...   \n",
      "164    NaN            NaN     NaN    NaN    NaN           NaN   NaN      NaN   \n",
      "165    NaN            NaN     NaN    NaN    NaN           NaN   NaN      NaN   \n",
      "166    NaN            NaN     NaN    NaN    NaN           NaN   NaN      NaN   \n",
      "167    NaN            NaN     NaN    NaN    NaN           NaN   NaN      NaN   \n",
      "168    NaN            NaN     NaN    NaN    NaN           NaN   NaN      NaN   \n",
      "\n",
      "       semaines  durée   jour date                début                  fin  \\\n",
      "Label                                                                          \n",
      "1           6.0    2.0  lundi  NaT  1904-01-01 08:30:00  1904-01-01 10:30:00   \n",
      "2          12.0    1.5  jeudi  NaT  1904-01-01 08:30:00  1904-01-01 10:00:00   \n",
      "3          12.0    1.5  jeudi  NaT  1904-01-01 10:15:00  1904-01-01 11:45:00   \n",
      "4          12.0    1.5  lundi  NaT  1904-01-01 13:30:00  1904-01-01 15:00:00   \n",
      "5          12.0    1.5  lundi  NaT  1904-01-01 15:00:00  1904-01-01 16:30:00   \n",
      "...         ...    ...    ...  ...                  ...                  ...   \n",
      "164         NaN    NaN    NaN  NaT                  NaN                  NaN   \n",
      "165         NaN    NaN    NaN  NaT                  NaN                  NaN   \n",
      "166         NaN    NaN    NaN  NaT                  NaN                  NaN   \n",
      "167         NaN    NaN    NaN  NaT                  NaN                  NaN   \n",
      "168         NaN    NaN    NaN  NaT                  NaN                  NaN   \n",
      "\n",
      "       salle           statut         enseignant Etudts  rqs rqs2  \n",
      "Label                                                              \n",
      "1       A230   UJM-PR-Musique    Laurent Pottier    NaN  NaN  NaN  \n",
      "2        J02  UJM-MCF-Musique  Matthieu Cailliez   Gr 1  NaN  NaN  \n",
      "3        J02  UJM-MCF-Musique  Matthieu Cailliez   Gr 2  NaN  NaN  \n",
      "4      autre    UJM - Lettres           M. Obali   Gr 1  NaN  NaN  \n",
      "5      autre    UJM - Lettres           M. Obali   Gr 2  NaN  NaN  \n",
      "...      ...              ...                ...    ...  ...  ...  \n",
      "164      NaN              NaN                NaN    NaN  NaN  NaN  \n",
      "165      NaN              NaN                NaN    NaN  NaN  NaN  \n",
      "166      NaN              NaN                NaN    NaN  NaN  NaN  \n",
      "167      NaN              NaN                NaN    NaN  NaN  NaN  \n",
      "168      NaN              NaN                NaN    NaN  NaN  NaN  \n",
      "\n",
      "[168 rows x 20 columns]\n"
     ]
    }
   ],
   "source": [
    "print(X)"
   ]
  },
  {
   "cell_type": "code",
   "execution_count": 8,
   "metadata": {},
   "outputs": [],
   "source": [
    "Enseignants = []\n",
    "\n",
    "def readline (base):\n",
    "    for j in range(base.shape):\n",
    "        add_cours_enseignant(Enseignants, base, j)"
   ]
  },
  {
   "cell_type": "code",
   "execution_count": 9,
   "metadata": {},
   "outputs": [
    {
     "name": "stdout",
     "output_type": "stream",
     "text": [
      "4\n"
     ]
    }
   ],
   "source": [
    "print (X.index[3])"
   ]
  },
  {
   "cell_type": "code",
   "execution_count": 10,
   "metadata": {},
   "outputs": [
    {
     "name": "stdout",
     "output_type": "stream",
     "text": [
      "heures\n"
     ]
    }
   ],
   "source": [
    "print (X.columns[2])"
   ]
  },
  {
   "cell_type": "code",
   "execution_count": 40,
   "metadata": {},
   "outputs": [
    {
     "name": "stdout",
     "output_type": "stream",
     "text": [
      "Matthieu Cailliez\n"
     ]
    }
   ],
   "source": [
    "print (X.enseignant[2])"
   ]
  },
  {
   "cell_type": "code",
   "execution_count": 41,
   "metadata": {},
   "outputs": [],
   "source": [
    "enseignant1 = Enseignant('coco', 'kiki', 'telephone', 'mail_ujm', 'mail_perso', 'adresse', 'statut', [],  0)\n",
    "\n",
    "Enseignants.append(enseignant1)\n",
    "\n",
    "enseignant2 = Enseignant('houap', 'LP', 'telephone', 'mail_ujm', 'mail_perso', 'adresse', 'statut', [],  0)\n",
    "\n",
    "Enseignants.append(enseignant2)"
   ]
  },
  {
   "cell_type": "code",
   "execution_count": 42,
   "metadata": {},
   "outputs": [
    {
     "name": "stdout",
     "output_type": "stream",
     "text": [
      "5\n",
      "['coco', 'coco', 'houap', 'coco', 'houap']\n"
     ]
    }
   ],
   "source": [
    "#print (Enseignants)\n",
    "#print (Enseignants[0].nom)\n",
    "print (len(Enseignants))\n",
    "\n",
    "def noms_enseignants(Liste):\n",
    "    res = []\n",
    "    for i in range (len(Liste)):\n",
    "        res.append (Liste[i].nom)\n",
    "    return res\n",
    "\n",
    "print (noms_enseignants(Enseignants))\n"
   ]
  },
  {
   "cell_type": "code",
   "execution_count": 12,
   "metadata": {},
   "outputs": [],
   "source": [
    "def add_cours_enseignant(enseignants, base, j):\n",
    "    nom_enseignant = base.enseignant[j]\n",
    "    if nom_enseignant not in (noms_enseignants enseignants):\n",
    "        enseignant = Enseignant('coco', 'kiki', 'telephone', 'mail_ujm', 'mail_perso', 'adresse', 'statut', [],  0)\n",
    "        Enseignants.append(enseignant)\n",
    "        "
   ]
  },
  {
   "cell_type": "code",
   "execution_count": 14,
   "metadata": {},
   "outputs": [
    {
     "name": "stdout",
     "output_type": "stream",
     "text": [
      "<__main__.Enseignant object at 0x124435880>\n"
     ]
    }
   ],
   "source": [
    "print (enseignant1)"
   ]
  },
  {
   "cell_type": "code",
   "execution_count": 24,
   "metadata": {},
   "outputs": [
    {
     "name": "stdout",
     "output_type": "stream",
     "text": [
      "coco\n"
     ]
    }
   ],
   "source": [
    "print (enseignant1.nom)"
   ]
  },
  {
   "cell_type": "code",
   "execution_count": 16,
   "metadata": {},
   "outputs": [],
   "source": [
    "enseignant1.nom = \"Pottier Laurent\""
   ]
  },
  {
   "cell_type": "code",
   "execution_count": 22,
   "metadata": {},
   "outputs": [
    {
     "name": "stdout",
     "output_type": "stream",
     "text": [
      "3\n",
      "False\n"
     ]
    }
   ],
   "source": [
    "vartest = [\"a\", \"b\", \"c\"]\n",
    "print(len (vartest))\n",
    "print(\"fz\" in vartest)\n"
   ]
  },
  {
   "cell_type": "code",
   "execution_count": null,
   "metadata": {},
   "outputs": [],
   "source": []
  }
 ],
 "metadata": {
  "kernelspec": {
   "display_name": "Python 3",
   "language": "python",
   "name": "python3"
  },
  "language_info": {
   "codemirror_mode": {
    "name": "ipython",
    "version": 3
   },
   "file_extension": ".py",
   "mimetype": "text/x-python",
   "name": "python",
   "nbconvert_exporter": "python",
   "pygments_lexer": "ipython3",
   "version": "3.8.5"
  }
 },
 "nbformat": 4,
 "nbformat_minor": 4
}

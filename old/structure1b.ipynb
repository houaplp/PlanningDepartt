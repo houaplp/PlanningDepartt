{
 "cells": [
  {
   "cell_type": "markdown",
   "metadata": {},
   "source": [
    "# Classes\n"
   ]
  },
  {
   "cell_type": "markdown",
   "metadata": {},
   "source": [
    "## Enseignant"
   ]
  },
  {
   "cell_type": "code",
   "execution_count": 91,
   "metadata": {},
   "outputs": [],
   "source": [
    "class Enseignant:\n",
    "    def __init__(self, nom, prénom, statut):\n",
    "        self.nom = nom\n",
    "        self.prénom=prénom\n",
    "        self.telephone=\"nil\"\n",
    "        self.mail_ujm=\"nil\"\n",
    "        self.mail_perso=\"nil\"\n",
    "        self.adresse=\"nil\"\n",
    "        self.statut=statut\n",
    "        self.cours=[]\n",
    "        self.service=0\n",
    "\n",
    "class Formation: \n",
    "    def __init__(self, formation):\n",
    "        self.formation = formation\n",
    "        \n",
    "class Enseignement:\n",
    "    def __init__(self, formation, semestre, code, titre, groupes):\n",
    "        self.formation = formation\n",
    "        self.semestre = semestre\n",
    "        self.code = code\n",
    "        self.titre = titre\n",
    "        self.htd = 0\n",
    "        self.hcm = 0\n",
    "        self.groupes = groupes\n",
    "        self.cours = []\n",
    "                \n",
    "class Charge_admin:\n",
    "    def __init__(self, titre, htd):\n",
    "        self.titre = titre\n",
    "        self.htd = htd\n",
    "        \n",
    "class Cours:\n",
    "    def __init__(self, enseignant, enseignement):\n",
    "        self.enseignant = enseignant\n",
    "        self.enseignement = enseignement\n",
    "        self.dates = []\n",
    "        self.duree = 0\n",
    "        self.debut = 0\n",
    "        self.salle = \"nil\"\n",
    "        self.groupe = \"nil\"\n",
    " "
   ]
  },
  {
   "cell_type": "code",
   "execution_count": 92,
   "metadata": {},
   "outputs": [],
   "source": [
    "import os\n",
    "import math\n",
    "import glob\n",
    "import re\n",
    "import numpy as np\n",
    "import pandas as pd\n",
    "import matplotlib.pyplot as plt\n"
   ]
  },
  {
   "cell_type": "code",
   "execution_count": 93,
   "metadata": {},
   "outputs": [],
   "source": [
    "os.chdir(\"/Users/laurentpottier/Documents/LP/Recherches/Dir_Departement/Python_Planning/files/\")\n"
   ]
  },
  {
   "cell_type": "code",
   "execution_count": 94,
   "metadata": {},
   "outputs": [],
   "source": [
    "#X = pd.read_excel(\"Services_enseignants2021-22d.xlsx\",sheet_name=0,header=0,index_col=0)"
   ]
  },
  {
   "cell_type": "code",
   "execution_count": 95,
   "metadata": {},
   "outputs": [],
   "source": [
    "#X = pd.read_excel(\"/Users/laurentpottier/Documents/LP/Recherches/Dir_Departement/Python_Planning/Services_enseignants2021-22e.xlsx\",sheet_name=0,header=0,index_col=0)\n",
    "X = pd.read_excel(\"Services_enseignants2021-22e.xlsx\",sheet_name=0,header=0,index_col=0)"
   ]
  },
  {
   "cell_type": "code",
   "execution_count": 96,
   "metadata": {},
   "outputs": [
    {
     "name": "stdout",
     "output_type": "stream",
     "text": [
      "(168, 22)\n"
     ]
    }
   ],
   "source": [
    "print(X.shape) # (18, 6)"
   ]
  },
  {
   "cell_type": "code",
   "execution_count": 97,
   "metadata": {},
   "outputs": [
    {
     "name": "stdout",
     "output_type": "stream",
     "text": [
      "      HETD  TD(1) CM(1.5)  heures Niveau  Semestre     UE      UE titre placé  \\\n",
      "Label                                                                           \n",
      "1       24            1.0    24.0      L       1.0  UE1-A          TICE     x   \n",
      "2       18            1.0    18.0      L       1.0  UE1-B  Methodologie     x   \n",
      "3       18            1.0    18.0      L       1.0  UE1-B  Methodologie     x   \n",
      "4       18            1.0    18.0      L       1.0  UE2-A      Français     x   \n",
      "5       18            1.0    18.0      L       1.0  UE2-A      Français     x   \n",
      "...    ...            ...     ...    ...       ...    ...           ...   ...   \n",
      "164    NaN            NaN     NaN    NaN       NaN    NaN           NaN   NaN   \n",
      "165    NaN            NaN     NaN    NaN       NaN    NaN           NaN   NaN   \n",
      "166    NaN            NaN     NaN    NaN       NaN    NaN           NaN   NaN   \n",
      "167    NaN            NaN     NaN    NaN       NaN    NaN           NaN   NaN   \n",
      "168    NaN            NaN     NaN    NaN       NaN    NaN           NaN   NaN   \n",
      "\n",
      "       groupes  semaines  ...  date                début                  fin  \\\n",
      "Label                     ...                                                   \n",
      "1          2.0       6.0  ...   NaT  1904-01-01 08:30:00  1904-01-01 10:30:00   \n",
      "2          1.0      12.0  ...   NaT  1904-01-01 08:30:00  1904-01-01 10:00:00   \n",
      "3          1.0      12.0  ...   NaT  1904-01-01 10:15:00  1904-01-01 11:45:00   \n",
      "4          1.0      12.0  ...   NaT  1904-01-01 13:30:00  1904-01-01 15:00:00   \n",
      "5          1.0      12.0  ...   NaT  1904-01-01 15:00:00  1904-01-01 16:30:00   \n",
      "...        ...       ...  ...   ...                  ...                  ...   \n",
      "164        NaN       NaN  ...   NaT                  NaN                  NaN   \n",
      "165        NaN       NaN  ...   NaT                  NaN                  NaN   \n",
      "166        NaN       NaN  ...   NaT                  NaN                  NaN   \n",
      "167        NaN       NaN  ...   NaT                  NaN                  NaN   \n",
      "168        NaN       NaN  ...   NaT                  NaN                  NaN   \n",
      "\n",
      "       salle           statut    prenom       nom Etudts  rqs rqs2  \n",
      "Label                                                               \n",
      "1       A230   UJM-PR-Musique   Laurent   Pottier    NaN  NaN  NaN  \n",
      "2        J02  UJM-MCF-Musique  Matthieu  Cailliez   Gr 1  NaN  NaN  \n",
      "3        J02  UJM-MCF-Musique  Matthieu  Cailliez   Gr 2  NaN  NaN  \n",
      "4      autre    UJM - Lettres        M.     Obali   Gr 1  NaN  NaN  \n",
      "5      autre    UJM - Lettres        M.     Obali   Gr 2  NaN  NaN  \n",
      "...      ...              ...       ...       ...    ...  ...  ...  \n",
      "164      NaN              NaN       NaN       NaN    NaN  NaN  NaN  \n",
      "165      NaN              NaN       NaN       NaN    NaN  NaN  NaN  \n",
      "166      NaN              NaN       NaN       NaN    NaN  NaN  NaN  \n",
      "167      NaN              NaN       NaN       NaN    NaN  NaN  NaN  \n",
      "168      NaN              NaN       NaN       NaN    NaN  NaN  NaN  \n",
      "\n",
      "[168 rows x 22 columns]\n"
     ]
    }
   ],
   "source": [
    "print(X)"
   ]
  },
  {
   "cell_type": "code",
   "execution_count": 98,
   "metadata": {},
   "outputs": [],
   "source": [
    "# => X est la base isue de Excel\n",
    "# => Enseignants est la base créée à partir de X, liste d'enseignants (de la classe Enseignant )\n",
    "\n",
    "Enseignants = []\n",
    "\n",
    "def readline (base):\n",
    "    for j in range(base.shape):\n",
    "        add_cours_enseignant(Enseignants, base, j)"
   ]
  },
  {
   "cell_type": "code",
   "execution_count": 82,
   "metadata": {},
   "outputs": [
    {
     "name": "stdout",
     "output_type": "stream",
     "text": [
      "4\n"
     ]
    }
   ],
   "source": [
    "print (X.index[3])"
   ]
  },
  {
   "cell_type": "code",
   "execution_count": 83,
   "metadata": {},
   "outputs": [
    {
     "name": "stdout",
     "output_type": "stream",
     "text": [
      "heures\n"
     ]
    }
   ],
   "source": [
    "print (X.columns[2])"
   ]
  },
  {
   "cell_type": "code",
   "execution_count": 84,
   "metadata": {},
   "outputs": [
    {
     "name": "stdout",
     "output_type": "stream",
     "text": [
      "Pottier\n"
     ]
    }
   ],
   "source": [
    "print (X.nom[1])"
   ]
  },
  {
   "cell_type": "code",
   "execution_count": 65,
   "metadata": {},
   "outputs": [
    {
     "ename": "SyntaxError",
     "evalue": "invalid syntax (<ipython-input-65-1b3c00945f27>, line 4)",
     "output_type": "error",
     "traceback": [
      "\u001b[0;36m  File \u001b[0;32m\"<ipython-input-65-1b3c00945f27>\"\u001b[0;36m, line \u001b[0;32m4\u001b[0m\n\u001b[0;31m    if nom_enseignant not in (noms_enseignants enseignants):\u001b[0m\n\u001b[0m                                               ^\u001b[0m\n\u001b[0;31mSyntaxError\u001b[0m\u001b[0;31m:\u001b[0m invalid syntax\n"
     ]
    }
   ],
   "source": [
    "def add_cours_enseignant(enseignants, base, j):\n",
    "    \"\"\"dsflkjsldfkj\"\"\"\n",
    "    nom_enseignant = base.nom[j]\n",
    "    if nom_enseignant not in (noms_enseignants (enseignants)):\n",
    "        enseignant = Enseignant(base.prenom[j], nom_enseignant,   base.statut[j])   \n",
    "        enseignement = Enseignement(base.formation[j], base.semestre[j], base.code[j], base.titre[j],base.htd[j],, hcm, groupes)\n",
    "        cours = Cours(enseignant, enseignement)\n",
    "        Enseignants.append(enseignant)\n",
    "    nth = \n",
    "        "
   ]
  },
  {
   "cell_type": "code",
   "execution_count": 99,
   "metadata": {},
   "outputs": [],
   "source": [
    "enseignant1 = Enseignant('coco', 'kiki', 'statut')\n",
    "Enseignants.append(enseignant1)\n",
    "enseignant2 = Enseignant('houap', 'LP',  'statut')\n",
    "Enseignants.append(enseignant2)"
   ]
  },
  {
   "cell_type": "code",
   "execution_count": 100,
   "metadata": {},
   "outputs": [
    {
     "name": "stdout",
     "output_type": "stream",
     "text": [
      "2\n",
      "['coco', 'houap']\n"
     ]
    }
   ],
   "source": [
    "#print (Enseignants)\n",
    "#print (Enseignants[0].nom)\n",
    "print (len(Enseignants))\n",
    "\n",
    "def noms_enseignants(Liste):\n",
    "    res = []\n",
    "    for i in range (len(Liste)):\n",
    "        res.append (Liste[i].nom)\n",
    "    return res\n",
    "\n",
    "print (noms_enseignants(Enseignants))\n"
   ]
  },
  {
   "cell_type": "code",
   "execution_count": 14,
   "metadata": {},
   "outputs": [
    {
     "name": "stdout",
     "output_type": "stream",
     "text": [
      "<__main__.Enseignant object at 0x124435880>\n"
     ]
    }
   ],
   "source": [
    "print (enseignant1)"
   ]
  },
  {
   "cell_type": "code",
   "execution_count": 24,
   "metadata": {},
   "outputs": [
    {
     "name": "stdout",
     "output_type": "stream",
     "text": [
      "coco\n"
     ]
    }
   ],
   "source": [
    "print (enseignant1.nom)"
   ]
  },
  {
   "cell_type": "code",
   "execution_count": 16,
   "metadata": {},
   "outputs": [],
   "source": [
    "enseignant1.nom = \"Pottier Laurent\""
   ]
  },
  {
   "cell_type": "code",
   "execution_count": 22,
   "metadata": {},
   "outputs": [
    {
     "name": "stdout",
     "output_type": "stream",
     "text": [
      "3\n",
      "False\n"
     ]
    }
   ],
   "source": [
    "vartest = [\"a\", \"b\", \"c\"]\n",
    "print(len (vartest))\n",
    "print(\"fz\" in vartest)\n"
   ]
  },
  {
   "cell_type": "code",
   "execution_count": null,
   "metadata": {},
   "outputs": [],
   "source": []
  }
 ],
 "metadata": {
  "kernelspec": {
   "display_name": "Python 3",
   "language": "python",
   "name": "python3"
  },
  "language_info": {
   "codemirror_mode": {
    "name": "ipython",
    "version": 3
   },
   "file_extension": ".py",
   "mimetype": "text/x-python",
   "name": "python",
   "nbconvert_exporter": "python",
   "pygments_lexer": "ipython3",
   "version": "3.8.5"
  }
 },
 "nbformat": 4,
 "nbformat_minor": 4
}

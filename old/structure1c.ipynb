{
 "cells": [
  {
   "cell_type": "markdown",
   "metadata": {},
   "source": [
    "# Classes\n"
   ]
  },
  {
   "cell_type": "markdown",
   "metadata": {},
   "source": [
    "## Enseignant"
   ]
  },
  {
   "cell_type": "code",
   "execution_count": 260,
   "metadata": {},
   "outputs": [],
   "source": [
    "class Enseignant:\n",
    "    def __init__(self, nom, prenom, statut):\n",
    "        self.nom = nom\n",
    "        self.prenom=prenom\n",
    "        self.telephone=\"nil\"\n",
    "        self.mail_ujm=\"nil\"\n",
    "        self.mail_perso=\"nil\"\n",
    "        self.adresse=\"nil\"\n",
    "        self.statut=statut\n",
    "        self.cours=[]\n",
    "        self.service=0\n",
    "\n",
    "class Formation: \n",
    "    def __init__(self, formation):\n",
    "        self.formation = formation\n",
    "        \n",
    "class Enseignement:\n",
    "    def __init__(self, formation, semestre, code, titre, groupes):\n",
    "        self.formation = formation\n",
    "        self.semestre = semestre\n",
    "        self.code = code\n",
    "        self.titre = titre\n",
    "        self.htd = 0\n",
    "        self.hcm = 0\n",
    "        self.groupes = groupes\n",
    "        self.cours = []\n",
    "                \n",
    "class Charge_admin:\n",
    "    def __init__(self, titre, htd):\n",
    "        self.titre = titre\n",
    "        self.htd = htd\n",
    "        \n",
    "class Cours:\n",
    "    def __init__(self, enseignant, enseignement):\n",
    "        self.enseignant = enseignant\n",
    "        self.enseignement = enseignement\n",
    "        self.duree = 0\n",
    "        self.nseances = 0\n",
    "        self.groupes = 0\n",
    "        self.dates = []\n",
    "        self.hdebut = 0\n",
    "        self.jour = \"nil\"\n",
    "        self.type = \"TD\"\n",
    "        self.salle = \"nil\"\n",
    "        self.groupe = \"nil\"\n",
    " "
   ]
  },
  {
   "cell_type": "code",
   "execution_count": 261,
   "metadata": {},
   "outputs": [],
   "source": [
    "import os\n",
    "import math\n",
    "import glob\n",
    "import re\n",
    "import numpy as np\n",
    "import pandas as pd\n",
    "import matplotlib.pyplot as plt\n"
   ]
  },
  {
   "cell_type": "code",
   "execution_count": 262,
   "metadata": {},
   "outputs": [],
   "source": [
    "os.chdir(\"/Users/laurentpottier/Documents/LP/Recherches/Dir_Departement/Python_Planning/files/\")\n"
   ]
  },
  {
   "cell_type": "code",
   "execution_count": 263,
   "metadata": {},
   "outputs": [],
   "source": [
    "#X = pd.read_excel(\"Services_enseignants2021-22d.xlsx\",sheet_name=0,header=0,index_col=0)"
   ]
  },
  {
   "cell_type": "code",
   "execution_count": 264,
   "metadata": {},
   "outputs": [],
   "source": [
    "#X = pd.read_excel(\"/Users/laurentpottier/Documents/LP/Recherches/Dir_Departement/Python_Planning/Services_enseignants2021-22e.xlsx\",sheet_name=0,header=0,index_col=0)\n",
    "X = pd.read_excel(\"Services_enseignants2021-22e.xlsx\",sheet_name=0,header=0,index_col=0)"
   ]
  },
  {
   "cell_type": "code",
   "execution_count": 265,
   "metadata": {},
   "outputs": [
    {
     "name": "stdout",
     "output_type": "stream",
     "text": [
      "(168, 22)\n"
     ]
    }
   ],
   "source": [
    "print(X.shape) # (18, 6)"
   ]
  },
  {
   "cell_type": "code",
   "execution_count": 266,
   "metadata": {},
   "outputs": [],
   "source": [
    "#print(X)"
   ]
  },
  {
   "cell_type": "code",
   "execution_count": 267,
   "metadata": {},
   "outputs": [
    {
     "name": "stdout",
     "output_type": "stream",
     "text": [
      "4\n"
     ]
    }
   ],
   "source": [
    "print (X.index[3])"
   ]
  },
  {
   "cell_type": "code",
   "execution_count": 268,
   "metadata": {},
   "outputs": [
    {
     "name": "stdout",
     "output_type": "stream",
     "text": [
      "heures\n"
     ]
    }
   ],
   "source": [
    "print (X.columns[2])"
   ]
  },
  {
   "cell_type": "code",
   "execution_count": 269,
   "metadata": {},
   "outputs": [
    {
     "name": "stdout",
     "output_type": "stream",
     "text": [
      "Pottier\n"
     ]
    }
   ],
   "source": [
    "print (X.nom[1])"
   ]
  },
  {
   "cell_type": "code",
   "execution_count": 270,
   "metadata": {},
   "outputs": [
    {
     "data": {
      "text/plain": [
       "'L'"
      ]
     },
     "execution_count": 270,
     "metadata": {},
     "output_type": "execute_result"
    }
   ],
   "source": [
    "X.formation[1]"
   ]
  },
  {
   "cell_type": "code",
   "execution_count": 271,
   "metadata": {},
   "outputs": [],
   "source": [
    "Enseignants = []"
   ]
  },
  {
   "cell_type": "code",
   "execution_count": 272,
   "metadata": {},
   "outputs": [],
   "source": [
    "#enseignant1 = Enseignant('coco', 'kiki', 'statut')\n",
    "#Enseignants.append(enseignant1)\n",
    "#enseignant2 = Enseignant('houap', 'LP',  'statut')\n",
    "#Enseignants.append(enseignant2)\n",
    "#Enseignants[1].prenom"
   ]
  },
  {
   "cell_type": "code",
   "execution_count": 273,
   "metadata": {},
   "outputs": [],
   "source": [
    "#def add_cours_enseignant(enseignants, base, j):\n",
    "  #  \"\"\"dsflkjsldfkj\"\"\"\n",
    "   # nom_enseignant = base.nom[j]\n",
    "   # \n",
    "   # if nom_enseignant not in (noms_enseignants (enseignants)):\n",
    "   #     enseignant = Enseignant(base.prenom[j], nom_enseignant,   base.statut[j])   \n",
    "   #     Enseignants.append(enseignant)"
   ]
  },
  {
   "cell_type": "code",
   "execution_count": 274,
   "metadata": {},
   "outputs": [
    {
     "name": "stdout",
     "output_type": "stream",
     "text": [
      "0\n",
      "[]\n",
      "[]\n"
     ]
    }
   ],
   "source": [
    "#print (Enseignants)\n",
    "#print (Enseignants[0].nom)\n",
    "print (len(Enseignants))\n",
    "\n",
    "def noms_enseignants(ListeEnseignants):\n",
    "    res = []\n",
    "    for i in range (len(ListeEnseignants)):\n",
    "        res.append (ListeEnseignants[i].nom)\n",
    "    return res\n",
    "\n",
    "def prenoms_enseignants(ListeEnseignants):\n",
    "    res = []\n",
    "    for i in range (len(ListeEnseignants)):\n",
    "        res.append (ListeEnseignants[i].prenom)\n",
    "    return res\n",
    "\n",
    "liste_enseignants = noms_enseignants(Enseignants)\n",
    "liste_penseignants = prenoms_enseignants(Enseignants)\n",
    "\n",
    "print (liste_enseignants)\n",
    "if ('houap' in liste_enseignants):\n",
    "    print (liste_enseignants.index('houap'))\n",
    "print (liste_penseignants)\n",
    "if ('houap' in liste_penseignants):\n",
    "    print (liste_enseignants.index('houap'))\n"
   ]
  },
  {
   "cell_type": "code",
   "execution_count": 275,
   "metadata": {},
   "outputs": [],
   "source": [
    "def add_cours_enseignant(enseignants, base, j):\n",
    "    \"\"\"dsflkjsldfkj\"\"\"\n",
    "    nom_enseignant = base.nom[j]\n",
    "    \n",
    "    if nom_enseignant not in (noms_enseignants (enseignants)):\n",
    "        enseignant = Enseignant(nom_enseignant, base.prenom[j], base.statut[j])   \n",
    "        Enseignants.append(enseignant)\n",
    "\n",
    "    liste_enseignants = noms_enseignants(Enseignants)\n",
    "    nth = liste_enseignants.index(nom_enseignant)\n",
    "    enseignant = enseignants[nth]\n",
    "    enseignement = Enseignement(base.formation[j], base.semestre[j], base.code[j], base.titre[j],base.groupes[j])\n",
    "    cours = Cours(enseignant, enseignement)\n",
    "    cours.duree = base.duree[j]\n",
    "    cours.jour = base.jour[j]\n",
    "    cours.groupes = base.groupes[j]\n",
    "    if(base.TD_CM[j]==1):\n",
    "        cours.type = \"TD\" \n",
    "    elif(base.TD_CM[j]==1.5):\n",
    "        cours.type = \"CM\" \n",
    "    else:\n",
    "        cours.type = \"nil\"\n",
    "    cours.salle = base.salle[j]\n",
    "    cours.nseances = base.nseances[j]\n",
    "    #print (liste_enseignants)\n",
    "    enseignant.cours.append(cours)\n",
    "    \n",
    "add_cours_enseignant(Enseignants, X, 1)\n",
    "add_cours_enseignant(Enseignants, X, 2)\n",
    "add_cours_enseignant(Enseignants, X, 3)\n",
    "    \n",
    "#(self, formation, semestre, code, titre, groupes):"
   ]
  },
  {
   "cell_type": "code",
   "execution_count": 276,
   "metadata": {},
   "outputs": [],
   "source": [
    "#test\n",
    "#add_cours_enseignant(Enseignants, X, 1)\n",
    "#add_cours_enseignant(Enseignants, X, 2)\n",
    "#add_cours_enseignant(Enseignants, X, 3)\n",
    "#add_cours_enseignant(Enseignants, X, 4)\n",
    "#add_cours_enseignant(Enseignants, X, 168)"
   ]
  },
  {
   "cell_type": "code",
   "execution_count": 277,
   "metadata": {},
   "outputs": [],
   "source": [
    "# => X est la base isue de Excel\n",
    "# => Enseignants est la base créée à partir de X, liste d'enseignants (de la classe Enseignant )\n",
    "\n",
    "def readlines (base):\n",
    "    for j in range(base.shape[0]):\n",
    "        #print (j)\n",
    "        add_cours_enseignant(Enseignants, base, 1+j)\n",
    "        \n",
    "readlines (X)"
   ]
  },
  {
   "cell_type": "code",
   "execution_count": 286,
   "metadata": {},
   "outputs": [
    {
     "name": "stdout",
     "output_type": "stream",
     "text": [
      "services de  Laurent Pottier :\n",
      "TICE  :  24.0 hetd\n",
      "TICE  :  24.0 hetd\n",
      "Acoustique  :  13.5 hetd\n",
      "Acoustique  :  12.0 hetd\n",
      "Histoire des musiques électroac  :  13.5 hetd\n",
      "Histoire des musiques électroac  :  12.0 hetd\n",
      "Methodologie  :  6.0 hetd\n",
      "Musique électroacoustiques  :  22.5 hetd\n",
      "Musique électroacoustiques  :  6.0 hetd\n",
      "total : 133.5 hetd\n"
     ]
    },
    {
     "data": {
      "text/plain": [
       "133.5"
      ]
     },
     "execution_count": 286,
     "metadata": {},
     "output_type": "execute_result"
    }
   ],
   "source": [
    "def service(LEnseignants, nom_enseignant):    \n",
    "    liste_enseignants = noms_enseignants(LEnseignants)\n",
    "    nth = liste_enseignants.index(nom_enseignant)\n",
    "    enseignant = LEnseignants[nth]\n",
    "    cours = enseignant.cours\n",
    "    service = 0\n",
    "    print(\"service de \", enseignant.prenom,  nom_enseignant, \":\")\n",
    "    for j in range(len(cours)):\n",
    "        duree = cours[j].duree\n",
    "        nseances = cours[j].nseances\n",
    "        groupes = cours[j].groupes\n",
    "        enseignement = cours[j].enseignement\n",
    "        titre = enseignement.titre\n",
    "        TD_CM = coefTDCM(cours[j].type)\n",
    "        hetd = duree * nseances * groupes * TD_CM\n",
    "        print(titre, \" : \" ,hetd, \"hetd\")\n",
    "        service += hetd\n",
    "    print (\"total :\", service, \"hetd\")\n",
    "    return service\n",
    "\n",
    "def coefTDCM(typ):\n",
    "    if(typ==\"TD\"):\n",
    "        coef = 1\n",
    "    elif(typ==\"CM\"):\n",
    "        coef = 1.5 \n",
    "    else:\n",
    "        coef = 0 \n",
    "    return coef\n",
    "        \n",
    "        \n",
    "service(Enseignants, 'Pottier')"
   ]
  },
  {
   "cell_type": "code",
   "execution_count": 287,
   "metadata": {},
   "outputs": [
    {
     "name": "stdout",
     "output_type": "stream",
     "text": [
      "['Pottier', 'Cailliez', 'Obali', 'Clerc', 'Fargeton', 'Waschbüsch', 'Houles', 'M', 'Bertrand', 'Petiet', 'Damon-Guillot', nan, 'Rascle', 'Desmet', 'Tracy', 'Fuchs', 'Forment', 'Bardot', 'Terras', 'Viallon', 'Garde', 'Delaigue', 'Moussart', 'Aliot', 'Carinola', 'Michon', 'Jouve Villard', 'Nosella', 'Ezequel']\n",
      "services de  Laurent Pottier :\n",
      "TICE  :  24.0 hetd\n",
      "TICE  :  24.0 hetd\n",
      "Acoustique  :  13.5 hetd\n",
      "Acoustique  :  12.0 hetd\n",
      "Histoire des musiques électroac  :  13.5 hetd\n",
      "Histoire des musiques électroac  :  12.0 hetd\n",
      "Methodologie  :  6.0 hetd\n",
      "Musique électroacoustiques  :  22.5 hetd\n",
      "Musique électroacoustiques  :  6.0 hetd\n",
      "total : 133.5 hetd\n",
      "services de  Matthieu Cailliez :\n",
      "Methodologie  :  18.0 hetd\n",
      "Methodologie  :  18.0 hetd\n",
      "Methodologie  :  18.0 hetd\n",
      "Methodologie  :  18.0 hetd\n",
      "Histoire  :  24.0 hetd\n",
      "Histoire de la musique 1800-70  :  54.0 hetd\n",
      "Histoire de la musique 1870-1930  :  36.0 hetd\n",
      "Iconographie musicale  :  18.0 hetd\n",
      "total : 204.0 hetd\n",
      "services de  M. Obali :\n",
      "Français  :  18.0 hetd\n",
      "Français  :  18.0 hetd\n",
      "Français  :  18.0 hetd\n",
      "total : 54.0 hetd\n",
      "services de  Leo Clerc :\n",
      "Anglais  :  18.0 hetd\n",
      "Anglais  :  18.0 hetd\n",
      "Anglais  :  18.0 hetd\n",
      "Anglais  :  18.0 hetd\n",
      "Anglais  :  18.0 hetd\n",
      "Anglais  :  18.0 hetd\n",
      "total : 108.0 hetd\n",
      "services de  Pierre Fargeton :\n",
      "Arts et spe-jazz  :  27.0 hetd\n",
      "Histoire  :  36.0 hetd\n",
      "Musique d'ensemble  :  30.0 hetd\n",
      "Musique d'ensemble  :  24.0 hetd\n",
      "Musique d'ensemble  :  24.0 hetd\n",
      "Jazz  :  36.0 hetd\n",
      "Musique d'ensemble  :  24.0 hetd\n",
      "Jazz  :  36.0 hetd\n",
      "Jazz  :  22.5 hetd\n",
      "Jazz  :  6.0 hetd\n",
      "total : 265.5 hetd\n",
      "services de  V. Waschbüsch :\n",
      "Esthétique  :  27.0 hetd\n",
      "Esthétique  :  18.0 hetd\n",
      "Solfege initiant  :  24.0 hetd\n",
      "Histoire de la musique après 1930  :  36.0 hetd\n",
      "Histoire de la musique après 1930  :  36.0 hetd\n",
      "Methodologie  :  4.0 hetd\n",
      "Musicologie XXe-XXIe  :  22.5 hetd\n",
      "Musicologie XXe-XXIe  :  6.0 hetd\n",
      "Projet coll  :  10.0 hetd\n",
      "Projet perso  :  9.0 hetd\n",
      "total : 192.5 hetd\n",
      "services de  Fabien Houles :\n",
      "Chorale  :  36.0 hetd\n",
      "Technique analyse auditive  :  18.0 hetd\n",
      "Technique analyse auditive  :  18.0 hetd\n",
      "Solfege (dechiffrage chanté)  :  6.0 hetd\n",
      "Solfege (dechiffrage chanté)  :  6.0 hetd\n",
      "Methodologie  :  18.0 hetd\n",
      "Chorale  :  36.0 hetd\n",
      "Technique analyse partition  :  18.0 hetd\n",
      "Technique analyse partition  :  18.0 hetd\n",
      "Harmonie  :  24.0 hetd\n",
      "Harmonie  :  24.0 hetd\n",
      "Solfege (dechiffrage chanté)  :  6.0 hetd\n",
      "Solfege (dechiffrage chanté)  :  6.0 hetd\n",
      "Chorale  :  36.0 hetd\n",
      "Harmonie  :  24.0 hetd\n",
      "Analyse sur partitions  :  27.0 hetd\n",
      "Chorale  :  36.0 hetd\n",
      "Harmonie  :  24.0 hetd\n",
      "Analyse auditive  :  27.0 hetd\n",
      "Direction de choeur  :  24.0 hetd\n",
      "Direction de choeur  :  24.0 hetd\n",
      "total : 456.0 hetd\n",
      "services de  etudiant M :\n",
      "Technique analyse auditive  :  12.0 hetd\n",
      "Atelier info mus  :  24.0 hetd\n",
      "Technique analyse partition  :  12.0 hetd\n",
      "total : 48.0 hetd\n",
      "services de  Valérie Bertrand :\n",
      "Solfege  :  24.0 hetd\n",
      "Solfege initiant  :  24.0 hetd\n",
      "Solfege  :  24.0 hetd\n",
      "Solfege initiant  :  24.0 hetd\n",
      "Solfege  :  24.0 hetd\n",
      "Solfege  :  0.0 hetd\n",
      "Solfege  :  24.0 hetd\n",
      "Solfege  :  0.0 hetd\n",
      "total : 144.0 hetd\n",
      "services de  Victor Petiet :\n",
      "Solfege  :  24.0 hetd\n",
      "Solfege  :  24.0 hetd\n",
      "total : 48.0 hetd\n",
      "services de  Anne Damon-Guillot :\n",
      "Solfege initiant  :  24.0 hetd\n",
      "Arts et spe-ethno  :  18.0 hetd\n",
      "Ethnomusicologie  :  36.0 hetd\n",
      "Ethnomusicologie  :  30.0 hetd\n",
      "Enseignant référent  :  12.0 hetd\n",
      "Methodologie  :  6.0 hetd\n",
      "Ethnomusicologie  :  22.5 hetd\n",
      "Ethnomusicologie  :  6.0 hetd\n",
      "total : 154.5 hetd\n",
      "services de  nan nan :\n",
      "nan  :  nan hetd\n",
      "nan  :  nan hetd\n",
      "PPP  :  11.0 hetd\n",
      "nan  :  nan hetd\n",
      "PPP  :  0.0 hetd\n",
      "nan  :  nan hetd\n",
      "nan  :  nan hetd\n",
      "Insertion Professionnelle  :  nan hetd\n",
      "Initiation à la recherche  :  nan hetd\n",
      "nan  :  nan hetd\n",
      "Introduction au droit  :  nan hetd\n",
      "Sociophonétique  :  nan hetd\n",
      "nan  :  nan hetd\n",
      "nan  :  nan hetd\n",
      "nan  :  nan hetd\n",
      "nan  :  nan hetd\n",
      "nan  :  nan hetd\n",
      "nan  :  nan hetd\n",
      "nan  :  nan hetd\n",
      "nan  :  nan hetd\n",
      "nan  :  nan hetd\n",
      "nan  :  nan hetd\n",
      "nan  :  nan hetd\n",
      "nan  :  nan hetd\n",
      "nan  :  nan hetd\n",
      "nan  :  nan hetd\n",
      "nan  :  nan hetd\n",
      "nan  :  nan hetd\n",
      "nan  :  nan hetd\n",
      "nan  :  nan hetd\n",
      "nan  :  nan hetd\n",
      "nan  :  nan hetd\n",
      "nan  :  nan hetd\n",
      "nan  :  nan hetd\n",
      "nan  :  nan hetd\n",
      "nan  :  nan hetd\n",
      "nan  :  nan hetd\n",
      "nan  :  nan hetd\n",
      "nan  :  nan hetd\n",
      "nan  :  nan hetd\n",
      "nan  :  nan hetd\n",
      "nan  :  nan hetd\n",
      "nan  :  nan hetd\n",
      "total : nan hetd\n",
      "services de  Lionel Rascle :\n",
      "Atelier info mus  :  24.0 hetd\n",
      "Musique et image  :  18.0 hetd\n",
      "total : 42.0 hetd\n",
      "services de  Marc Desmet :\n",
      "Enseignant référent  :  18.0 hetd\n",
      "Histoire de la musique 900-1600  :  54.0 hetd\n",
      "Paléographie musicale 1  :  18.0 hetd\n",
      "Paléographie musicale 1  :  18.0 hetd\n",
      "Methodologie  :  8.0 hetd\n",
      "Analyse auditive  :  9.0 hetd\n",
      "Analyse auditive  :  6.0 hetd\n",
      "Musicologie XVIII-XIXe  :  22.5 hetd\n",
      "Musicologie XVIII-XIXe  :  6.0 hetd\n",
      "Musicologie XVIe-XVIIe  :  22.5 hetd\n",
      "Musicologie XVIe-XVIIe  :  6.0 hetd\n",
      "nan  :  12.0 hetd\n",
      "total : 200.0 hetd\n",
      "services de  Leland Tracy :\n",
      "Anglais  :  18.0 hetd\n",
      "Anglais  :  18.0 hetd\n",
      "total : 36.0 hetd\n",
      "services de  Catherine Fuchs :\n",
      "Accompagnement  :  20.0 hetd\n",
      "Accompagnement  :  20.0 hetd\n",
      "Accompagnement  :  24.0 hetd\n",
      "Accompagnement  :  24.0 hetd\n",
      "total : 88.0 hetd\n",
      "services de  Raphael Forment :\n",
      "Atelier d'informatique mus  :  24.0 hetd\n",
      "Atelier d'informatique mus  :  24.0 hetd\n",
      "total : 48.0 hetd\n",
      "services de  Jean-Marc Bardot :\n",
      "Histoire de la musique 1870-1930  :  36.0 hetd\n",
      "total : 36.0 hetd\n",
      "services de  Bastien Terras :\n",
      "Harmonie  :  48.0 hetd\n",
      "Harmonie  :  48.0 hetd\n",
      "total : 96.0 hetd\n",
      "services de  A. Viallon :\n",
      "Solfège  :  48.0 hetd\n",
      "Solfège  :  48.0 hetd\n",
      "total : 96.0 hetd\n",
      "services de  Cédric Garde :\n",
      "Pratique vocale individuelle  :  24.0 hetd\n",
      "Pratique vocale individuelle  :  36.0 hetd\n",
      "total : 60.0 hetd\n",
      "services de  Nicolas Delaigue :\n",
      "Ethnomusicologie  :  6.0 hetd\n",
      "total : 6.0 hetd\n",
      "services de  Arnaud Moussart :\n",
      "Anglais  :  18.0 hetd\n",
      "Anglais  :  18.0 hetd\n",
      "total : 36.0 hetd\n",
      "services de  Greg Aliot :\n",
      "Techniques de studio  :  20.0 hetd\n",
      "total : 20.0 hetd\n",
      "services de  Vincent Carinola :\n",
      "Techniques de studio  :  10.0 hetd\n",
      "total : 10.0 hetd\n",
      "services de  Romain Michon :\n",
      "Atelier d'informatique musicale  :  9.0 hetd\n",
      "Atelier d'informatique musicale  :  6.0 hetd\n",
      "total : 15.0 hetd\n",
      "services de  Laure Jouve Villard :\n",
      "Mediation culturelle  :  nan hetd\n",
      "total : nan hetd\n",
      "services de  Carole Nosella :\n",
      "Espaces et réseaux  :  nan hetd\n",
      "total : nan hetd\n",
      "services de  Philippe Ezequel :\n",
      "Initiation à la programmation  :  9.0 hetd\n",
      "Initiation à la programmation  :  6.0 hetd\n",
      "total : 15.0 hetd\n"
     ]
    }
   ],
   "source": [
    "liste_enseignants = noms_enseignants(Enseignants)\n",
    "print (liste_enseignants)\n",
    "#print (liste_enseignants.index('Pottier'))\n",
    "#cours1 = (Enseignants[2].cours)\n",
    "#print (len(cours1))\n",
    "#print (\"durée :\" , cours1[1].duree)\n",
    "\n",
    "def services(LEnseignants):\n",
    "    liste_enseignants = noms_enseignants(Enseignants)\n",
    "    for i in range (len(liste_enseignants)):\n",
    "        service(Enseignants, liste_enseignants[i])\n",
    "        \n",
    "services(Enseignants)\n"
   ]
  },
  {
   "cell_type": "code",
   "execution_count": 190,
   "metadata": {},
   "outputs": [
    {
     "name": "stdout",
     "output_type": "stream",
     "text": [
      "Pottier\n",
      "[<__main__.Cours object at 0x106306190>, <__main__.Cours object at 0x117f76100>, <__main__.Cours object at 0x117f50fa0>, <__main__.Cours object at 0x117f50670>, <__main__.Cours object at 0x1183794c0>, <__main__.Cours object at 0x117f50e50>, <__main__.Cours object at 0x118379820>, <__main__.Cours object at 0x117f76670>, <__main__.Cours object at 0x117f8f970>, <__main__.Cours object at 0x1181849d0>, <__main__.Cours object at 0x117f2ecd0>, <__main__.Cours object at 0x118379dc0>, <__main__.Cours object at 0x11834d700>, <__main__.Cours object at 0x11834d4c0>, <__main__.Cours object at 0x118349400>, <__main__.Cours object at 0x1183491c0>, <__main__.Cours object at 0x118184490>]\n",
      "Cailliez\n",
      "[<__main__.Cours object at 0x11833b880>, <__main__.Cours object at 0x11833b5e0>, <__main__.Cours object at 0x117f761c0>, <__main__.Cours object at 0x1062d5310>, <__main__.Cours object at 0x117f509a0>, <__main__.Cours object at 0x1183072e0>, <__main__.Cours object at 0x117f50760>, <__main__.Cours object at 0x117f50a90>, <__main__.Cours object at 0x118379760>, <__main__.Cours object at 0x118307250>, <__main__.Cours object at 0x117f50850>, <__main__.Cours object at 0x117f8f9a0>, <__main__.Cours object at 0x118379190>, <__main__.Cours object at 0x118379790>, <__main__.Cours object at 0x117f76c70>, <__main__.Cours object at 0x117f762e0>, <__main__.Cours object at 0x1182d6c40>, <__main__.Cours object at 0x117f8ffa0>, <__main__.Cours object at 0x118184eb0>, <__main__.Cours object at 0x1181840a0>, <__main__.Cours object at 0x117f8f310>, <__main__.Cours object at 0x117f8fb80>, <__main__.Cours object at 0x118184c70>, <__main__.Cours object at 0x118184a90>, <__main__.Cours object at 0x118307b50>, <__main__.Cours object at 0x11834d040>, <__main__.Cours object at 0x11834d280>, <__main__.Cours object at 0x118349d90>]\n"
     ]
    }
   ],
   "source": [
    "print (Enseignants[2].nom)\n",
    "print (Enseignants[2].cours)\n",
    "print (Enseignants[3].nom)\n",
    "print (Enseignants[3].cours)"
   ]
  },
  {
   "cell_type": "code",
   "execution_count": 118,
   "metadata": {},
   "outputs": [],
   "source": [
    "enseignant1.nom = \"Pottier\""
   ]
  },
  {
   "cell_type": "code",
   "execution_count": 22,
   "metadata": {},
   "outputs": [
    {
     "name": "stdout",
     "output_type": "stream",
     "text": [
      "3\n",
      "False\n"
     ]
    }
   ],
   "source": [
    "vartest = [\"a\", \"b\", \"c\"]\n",
    "print(len (vartest))\n",
    "print(\"fz\" in vartest)\n"
   ]
  },
  {
   "cell_type": "code",
   "execution_count": null,
   "metadata": {},
   "outputs": [],
   "source": []
  }
 ],
 "metadata": {
  "kernelspec": {
   "display_name": "Python 3",
   "language": "python",
   "name": "python3"
  },
  "language_info": {
   "codemirror_mode": {
    "name": "ipython",
    "version": 3
   },
   "file_extension": ".py",
   "mimetype": "text/x-python",
   "name": "python",
   "nbconvert_exporter": "python",
   "pygments_lexer": "ipython3",
   "version": "3.8.5"
  }
 },
 "nbformat": 4,
 "nbformat_minor": 4
}

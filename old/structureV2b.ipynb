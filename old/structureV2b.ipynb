{
 "cells": [
  {
   "cell_type": "markdown",
   "metadata": {},
   "source": [
    "# Classes\n"
   ]
  },
  {
   "cell_type": "markdown",
   "metadata": {},
   "source": [
    "## Enseignant"
   ]
  },
  {
   "cell_type": "code",
   "execution_count": 73,
   "metadata": {},
   "outputs": [],
   "source": [
    "class Enseignant:\n",
    "    def __init__(self, nom, prenom, statut):\n",
    "        self.nom = nom\n",
    "        self.prenom=prenom\n",
    "        self.telephone=\"nil\"\n",
    "        self.mail_ujm=\"nil\"\n",
    "        self.mail_perso=\"nil\"\n",
    "        self.adresse=\"nil\"\n",
    "        self.statut=statut\n",
    "        self.cours=[]\n",
    "        self.charge=[]\n",
    "        self.service=0\n",
    "\n",
    "class Formation: \n",
    "    def __init__(self, formation):\n",
    "        self.formation = formation\n",
    "        \n",
    "class Enseignement:\n",
    "    def __init__(self, formation, semestre, code, titre, groupes):\n",
    "        self.formation = formation\n",
    "        self.semestre = semestre\n",
    "        self.code = code\n",
    "        self.titre = titre\n",
    "        self.htd = 0\n",
    "        self.hcm = 0\n",
    "        self.groupes = groupes\n",
    "        self.cours = []\n",
    "                \n",
    "class Charge_admin:\n",
    "    def __init__(self, titre, htd):\n",
    "        self.titre = titre\n",
    "        self.htd = htd\n",
    "        \n",
    "class Cours:\n",
    "    def __init__(self, enseignant, enseignement):\n",
    "        self.enseignant = enseignant\n",
    "        self.enseignement = enseignement\n",
    "        self.duree = 0\n",
    "        self.nseances = 0\n",
    "        self.groupes = 0\n",
    "        self.dates = []\n",
    "        self.hdebut = 0\n",
    "        self.jour = \"nil\"\n",
    "        self.type = \"TD\"\n",
    "        self.salle = \"nil\"\n",
    "        self.groupe = \"nil\"\n",
    " "
   ]
  },
  {
   "cell_type": "code",
   "execution_count": 21,
   "metadata": {},
   "outputs": [],
   "source": [
    "import os\n",
    "import math\n",
    "import glob\n",
    "import re\n",
    "import numpy as np\n",
    "import pandas as pd\n",
    "import matplotlib.pyplot as plt\n"
   ]
  },
  {
   "cell_type": "code",
   "execution_count": 22,
   "metadata": {},
   "outputs": [],
   "source": [
    "os.chdir(\"/Users/laurentpottier/Documents/LP/Recherches/Dir_Departement/Python_Planning/files/\")\n"
   ]
  },
  {
   "cell_type": "code",
   "execution_count": 23,
   "metadata": {},
   "outputs": [],
   "source": [
    "#X = pd.read_excel(\"Services_enseignants2021-22d.xlsx\",sheet_name=0,header=0,index_col=0)"
   ]
  },
  {
   "cell_type": "code",
   "execution_count": 62,
   "metadata": {},
   "outputs": [],
   "source": [
    "#X = pd.read_excel(\"/Users/laurentpottier/Documents/LP/Recherches/Dir_Departement/Python_Planning/Services_enseignants2021-22e.xlsx\",sheet_name=0,header=0,index_col=0)\n",
    "X = pd.read_excel(\"Services_enseignants2021-22f.xlsx\",sheet_name=0,header=0,index_col=0)"
   ]
  },
  {
   "cell_type": "code",
   "execution_count": 63,
   "metadata": {},
   "outputs": [
    {
     "name": "stdout",
     "output_type": "stream",
     "text": [
      "(149, 22)\n"
     ]
    }
   ],
   "source": [
    "print(X.shape) # (18, 6)"
   ]
  },
  {
   "cell_type": "code",
   "execution_count": 64,
   "metadata": {},
   "outputs": [],
   "source": [
    "#print(X)"
   ]
  },
  {
   "cell_type": "code",
   "execution_count": 65,
   "metadata": {},
   "outputs": [
    {
     "name": "stdout",
     "output_type": "stream",
     "text": [
      "4\n"
     ]
    }
   ],
   "source": [
    "print (X.index[3])"
   ]
  },
  {
   "cell_type": "code",
   "execution_count": 66,
   "metadata": {},
   "outputs": [
    {
     "name": "stdout",
     "output_type": "stream",
     "text": [
      "heures\n"
     ]
    }
   ],
   "source": [
    "print (X.columns[2])"
   ]
  },
  {
   "cell_type": "code",
   "execution_count": 67,
   "metadata": {},
   "outputs": [
    {
     "name": "stdout",
     "output_type": "stream",
     "text": [
      "Pottier\n"
     ]
    }
   ],
   "source": [
    "print (X.nom[1])"
   ]
  },
  {
   "cell_type": "code",
   "execution_count": 68,
   "metadata": {},
   "outputs": [
    {
     "data": {
      "text/plain": [
       "'L'"
      ]
     },
     "execution_count": 68,
     "metadata": {},
     "output_type": "execute_result"
    }
   ],
   "source": [
    "X.formation[1]"
   ]
  },
  {
   "cell_type": "code",
   "execution_count": 69,
   "metadata": {},
   "outputs": [],
   "source": [
    "Enseignants = []"
   ]
  },
  {
   "cell_type": "code",
   "execution_count": 32,
   "metadata": {},
   "outputs": [],
   "source": [
    "#enseignant1 = Enseignant('coco', 'kiki', 'statut')\n",
    "#Enseignants.append(enseignant1)\n",
    "#enseignant2 = Enseignant('houap', 'LP',  'statut')\n",
    "#Enseignants.append(enseignant2)\n",
    "#Enseignants[1].prenom"
   ]
  },
  {
   "cell_type": "code",
   "execution_count": 33,
   "metadata": {},
   "outputs": [],
   "source": [
    "#def add_cours_enseignant(enseignants, base, j):\n",
    "  #  \"\"\"dsflkjsldfkj\"\"\"\n",
    "   # nom_enseignant = base.nom[j]\n",
    "   # \n",
    "   # if nom_enseignant not in (noms_enseignants (enseignants)):\n",
    "   #     enseignant = Enseignant(base.prenom[j], nom_enseignant,   base.statut[j])   \n",
    "   #     Enseignants.append(enseignant)"
   ]
  },
  {
   "cell_type": "code",
   "execution_count": 70,
   "metadata": {},
   "outputs": [
    {
     "name": "stdout",
     "output_type": "stream",
     "text": [
      "0\n",
      "[]\n",
      "[]\n"
     ]
    }
   ],
   "source": [
    "#print (Enseignants)\n",
    "#print (Enseignants[0].nom)\n",
    "print (len(Enseignants))\n",
    "\n",
    "def noms_enseignants(ListeEnseignants):\n",
    "    res = []\n",
    "    for i in range (len(ListeEnseignants)):\n",
    "        res.append (ListeEnseignants[i].nom)\n",
    "    return res\n",
    "\n",
    "def prenoms_enseignants(ListeEnseignants):\n",
    "    res = []\n",
    "    for i in range (len(ListeEnseignants)):\n",
    "        res.append (ListeEnseignants[i].prenom)\n",
    "    return res\n",
    "\n",
    "liste_enseignants = noms_enseignants(Enseignants)\n",
    "liste_penseignants = prenoms_enseignants(Enseignants)\n",
    "\n",
    "print (liste_enseignants)\n",
    "if ('houap' in liste_enseignants):\n",
    "    print (liste_enseignants.index('houap'))\n",
    "print (liste_penseignants)\n",
    "if ('houap' in liste_penseignants):\n",
    "    print (liste_enseignants.index('houap'))\n"
   ]
  },
  {
   "cell_type": "code",
   "execution_count": 75,
   "metadata": {},
   "outputs": [
    {
     "name": "stdout",
     "output_type": "stream",
     "text": [
      "ok\n",
      "Pottier\n"
     ]
    }
   ],
   "source": [
    "def add_cours_enseignant(enseignants, base, j):\n",
    "    \"\"\"dsflkjsldfkj\"\"\"\n",
    "    nom_enseignant = base.nom[j]\n",
    "    #si un enseignant est référencé dans la ligne considérée\n",
    "    if (not (isinstance(nom_enseignant, (int, float)))): \n",
    "        print (\"ok\")\n",
    "        print (nom_enseignant)\n",
    "        # si l'enseignant n'est pas dans la base on l'ajoute\n",
    "        if nom_enseignant not in (noms_enseignants (enseignants)):\n",
    "            enseignant = Enseignant(nom_enseignant, base.prenom[j], base.statut[j])   \n",
    "            Enseignants.append(enseignant)\n",
    "\n",
    "        liste_enseignants = noms_enseignants(Enseignants)\n",
    "        nth = liste_enseignants.index(nom_enseignant)\n",
    "        enseignant = enseignants[nth]\n",
    "        formation = base.formation[j]\n",
    "        if (not (isinstance(formation, (int, float)))): \n",
    "            enseignement = Enseignement(formation, base.semestre[j], base.code[j], base.titre[j],base.groupes[j]) \n",
    "            cours = Cours(enseignant, enseignement)\n",
    "            cours.duree = base.duree[j]\n",
    "            cours.jour = base.jour[j]\n",
    "            cours.groupes = base.groupes[j]\n",
    "            if(base.TD_CM[j]==1):\n",
    "                cours.type = \"TD\" \n",
    "            elif(base.TD_CM[j]==1.5):\n",
    "                cours.type = \"CM\" \n",
    "            else:\n",
    "                cours.type = \"nil\"\n",
    "            cours.salle = base.salle[j]\n",
    "            cours.nseances = base.nseances[j]\n",
    "            #print (liste_enseignants)\n",
    "            enseignant.cours.append(cours)\n",
    "        else:\n",
    "            charge = Charge_admin(base.titre[j],base.duree[j])\n",
    "            enseignant.charge.append(charge)\n",
    "\n",
    "    \n",
    "add_cours_enseignant(Enseignants, X, 144)\n",
    "    \n",
    "#(self, formation, semestre, code, titre, groupes):"
   ]
  },
  {
   "cell_type": "code",
   "execution_count": 36,
   "metadata": {},
   "outputs": [],
   "source": [
    "#test\n",
    "#add_cours_enseignant(Enseignants, X, 1)\n",
    "#add_cours_enseignant(Enseignants, X, 2)\n",
    "#add_cours_enseignant(Enseignants, X, 3)\n",
    "#add_cours_enseignant(Enseignants, X, 4)\n",
    "#add_cours_enseignant(Enseignants, X, 168)"
   ]
  },
  {
   "cell_type": "code",
   "execution_count": 37,
   "metadata": {},
   "outputs": [
    {
     "name": "stdout",
     "output_type": "stream",
     "text": [
      "Pottier\n",
      "Cailliez\n",
      "Cailliez\n",
      "Obali\n",
      "Obali\n",
      "Clerc\n",
      "Clerc\n",
      "Fargeton\n",
      "Waschbüsch\n",
      "Fargeton\n",
      "Houles\n",
      "Fargeton\n",
      "Houles\n",
      "Houles\n",
      "M\n",
      "Bertrand\n",
      "Petiet\n",
      "Houles\n",
      "Houles\n",
      "Damon-Guillot\n",
      "Bertrand\n",
      "Houles\n",
      "Obali\n",
      "Clerc\n",
      "Clerc\n",
      "Damon-Guillot\n",
      "Waschbüsch\n",
      "Cailliez\n",
      "Houles\n",
      "Fargeton\n",
      "Rascle\n",
      "M\n",
      "Houles\n",
      "Houles\n",
      "M\n",
      "Houles\n",
      "Houles\n",
      "Bertrand\n",
      "Petiet\n",
      "Houles\n",
      "Houles\n",
      "Waschbüsch\n",
      "Bertrand\n",
      "Desmet\n",
      "Tracy\n",
      "Houles\n",
      "Houles\n",
      "Bertrand\n",
      "Bertrand\n",
      "Fuchs\n",
      "Fargeton\n",
      "Fargeton\n",
      "Forment\n",
      "Houles\n",
      "Cailliez\n",
      "Tracy\n",
      "Houles\n",
      "Houles\n",
      "Bertrand\n",
      "Bertrand\n",
      "Fuchs\n",
      "Fargeton\n",
      "Damon-Guillot\n",
      "Forment\n",
      "Houles\n",
      "Desmet\n",
      "Fargeton\n",
      "Pottier\n",
      "Pottier\n",
      "Cailliez\n",
      "Bardot\n",
      "Terras\n",
      "Viallon\n",
      "Garde\n",
      "Houles\n",
      "Fuchs\n",
      "Clerc\n",
      "Desmet\n",
      "Cailliez\n",
      "Damon-Guillot\n",
      "Delaigue\n",
      "Pottier\n",
      "Pottier\n",
      "Waschbüsch\n",
      "Waschbüsch\n",
      "Terras\n",
      "Viallon\n",
      "Garde\n",
      "Houles\n",
      "Fuchs\n",
      "Clerc\n",
      "Desmet\n",
      "Rascle\n",
      "Damon-Guillot\n",
      "Moussart\n",
      "Damon-Guillot\n",
      "Desmet\n",
      "Pottier\n",
      "Waschbüsch\n",
      "Desmet\n",
      "Desmet\n",
      "Aliot\n",
      "Carinola\n",
      "Cailliez\n",
      "Cailliez\n",
      "Damon-Guillot\n",
      "Damon-Guillot\n",
      "Pottier\n",
      "Pottier\n",
      "Michon\n",
      "Michon\n",
      "Moussart\n",
      "Desmet\n",
      "Desmet\n",
      "Fargeton\n",
      "Fargeton\n",
      "Waschbüsch\n",
      "Waschbüsch\n",
      "Jouve Villard\n",
      "Nosella\n",
      "Ezequel\n",
      "Ezequel\n",
      "Desmet\n",
      "Waschbüsch\n",
      "Waschbüsch\n",
      "Label\n",
      "140    NaN\n",
      "140    NaN\n",
      "140    NaN\n",
      "Name: nom, dtype: object\n"
     ]
    },
    {
     "ename": "ValueError",
     "evalue": "The truth value of a Series is ambiguous. Use a.empty, a.bool(), a.item(), a.any() or a.all().",
     "output_type": "error",
     "traceback": [
      "\u001b[0;31m---------------------------------------------------------------------------\u001b[0m",
      "\u001b[0;31mValueError\u001b[0m                                Traceback (most recent call last)",
      "\u001b[0;32m<ipython-input-37-c36df6ebaef8>\u001b[0m in \u001b[0;36m<module>\u001b[0;34m\u001b[0m\n\u001b[1;32m      7\u001b[0m         \u001b[0madd_cours_enseignant\u001b[0m\u001b[0;34m(\u001b[0m\u001b[0mEnseignants\u001b[0m\u001b[0;34m,\u001b[0m \u001b[0mbase\u001b[0m\u001b[0;34m,\u001b[0m \u001b[0;36m1\u001b[0m\u001b[0;34m+\u001b[0m\u001b[0mj\u001b[0m\u001b[0;34m)\u001b[0m\u001b[0;34m\u001b[0m\u001b[0;34m\u001b[0m\u001b[0m\n\u001b[1;32m      8\u001b[0m \u001b[0;34m\u001b[0m\u001b[0m\n\u001b[0;32m----> 9\u001b[0;31m \u001b[0mreadlines\u001b[0m \u001b[0;34m(\u001b[0m\u001b[0mX\u001b[0m\u001b[0;34m)\u001b[0m\u001b[0;34m\u001b[0m\u001b[0;34m\u001b[0m\u001b[0m\n\u001b[0m",
      "\u001b[0;32m<ipython-input-37-c36df6ebaef8>\u001b[0m in \u001b[0;36mreadlines\u001b[0;34m(base)\u001b[0m\n\u001b[1;32m      5\u001b[0m     \u001b[0;32mfor\u001b[0m \u001b[0mj\u001b[0m \u001b[0;32min\u001b[0m \u001b[0mrange\u001b[0m\u001b[0;34m(\u001b[0m\u001b[0mbase\u001b[0m\u001b[0;34m.\u001b[0m\u001b[0mshape\u001b[0m\u001b[0;34m[\u001b[0m\u001b[0;36m0\u001b[0m\u001b[0;34m]\u001b[0m\u001b[0;34m)\u001b[0m\u001b[0;34m:\u001b[0m\u001b[0;34m\u001b[0m\u001b[0;34m\u001b[0m\u001b[0m\n\u001b[1;32m      6\u001b[0m         \u001b[0;31m#print (j)\u001b[0m\u001b[0;34m\u001b[0m\u001b[0;34m\u001b[0m\u001b[0;34m\u001b[0m\u001b[0m\n\u001b[0;32m----> 7\u001b[0;31m         \u001b[0madd_cours_enseignant\u001b[0m\u001b[0;34m(\u001b[0m\u001b[0mEnseignants\u001b[0m\u001b[0;34m,\u001b[0m \u001b[0mbase\u001b[0m\u001b[0;34m,\u001b[0m \u001b[0;36m1\u001b[0m\u001b[0;34m+\u001b[0m\u001b[0mj\u001b[0m\u001b[0;34m)\u001b[0m\u001b[0;34m\u001b[0m\u001b[0;34m\u001b[0m\u001b[0m\n\u001b[0m\u001b[1;32m      8\u001b[0m \u001b[0;34m\u001b[0m\u001b[0m\n\u001b[1;32m      9\u001b[0m \u001b[0mreadlines\u001b[0m \u001b[0;34m(\u001b[0m\u001b[0mX\u001b[0m\u001b[0;34m)\u001b[0m\u001b[0;34m\u001b[0m\u001b[0;34m\u001b[0m\u001b[0m\n",
      "\u001b[0;32m<ipython-input-35-40272533c6c7>\u001b[0m in \u001b[0;36madd_cours_enseignant\u001b[0;34m(enseignants, base, j)\u001b[0m\n\u001b[1;32m      6\u001b[0m \u001b[0;34m\u001b[0m\u001b[0m\n\u001b[1;32m      7\u001b[0m         \u001b[0mprint\u001b[0m \u001b[0;34m(\u001b[0m\u001b[0mnom_enseignant\u001b[0m\u001b[0;34m)\u001b[0m\u001b[0;34m\u001b[0m\u001b[0;34m\u001b[0m\u001b[0m\n\u001b[0;32m----> 8\u001b[0;31m         \u001b[0;32mif\u001b[0m \u001b[0mnom_enseignant\u001b[0m \u001b[0;32mnot\u001b[0m \u001b[0;32min\u001b[0m \u001b[0;34m(\u001b[0m\u001b[0mnoms_enseignants\u001b[0m \u001b[0;34m(\u001b[0m\u001b[0menseignants\u001b[0m\u001b[0;34m)\u001b[0m\u001b[0;34m)\u001b[0m\u001b[0;34m:\u001b[0m\u001b[0;34m\u001b[0m\u001b[0;34m\u001b[0m\u001b[0m\n\u001b[0m\u001b[1;32m      9\u001b[0m             \u001b[0menseignant\u001b[0m \u001b[0;34m=\u001b[0m \u001b[0mEnseignant\u001b[0m\u001b[0;34m(\u001b[0m\u001b[0mnom_enseignant\u001b[0m\u001b[0;34m,\u001b[0m \u001b[0mbase\u001b[0m\u001b[0;34m.\u001b[0m\u001b[0mprenom\u001b[0m\u001b[0;34m[\u001b[0m\u001b[0mj\u001b[0m\u001b[0;34m]\u001b[0m\u001b[0;34m,\u001b[0m \u001b[0mbase\u001b[0m\u001b[0;34m.\u001b[0m\u001b[0mstatut\u001b[0m\u001b[0;34m[\u001b[0m\u001b[0mj\u001b[0m\u001b[0;34m]\u001b[0m\u001b[0;34m)\u001b[0m\u001b[0;34m\u001b[0m\u001b[0;34m\u001b[0m\u001b[0m\n\u001b[1;32m     10\u001b[0m             \u001b[0mEnseignants\u001b[0m\u001b[0;34m.\u001b[0m\u001b[0mappend\u001b[0m\u001b[0;34m(\u001b[0m\u001b[0menseignant\u001b[0m\u001b[0;34m)\u001b[0m\u001b[0;34m\u001b[0m\u001b[0;34m\u001b[0m\u001b[0m\n",
      "\u001b[0;32m~/opt/anaconda3/lib/python3.8/site-packages/pandas/core/generic.py\u001b[0m in \u001b[0;36m__nonzero__\u001b[0;34m(self)\u001b[0m\n\u001b[1;32m   1327\u001b[0m \u001b[0;34m\u001b[0m\u001b[0m\n\u001b[1;32m   1328\u001b[0m     \u001b[0;32mdef\u001b[0m \u001b[0m__nonzero__\u001b[0m\u001b[0;34m(\u001b[0m\u001b[0mself\u001b[0m\u001b[0;34m)\u001b[0m\u001b[0;34m:\u001b[0m\u001b[0;34m\u001b[0m\u001b[0;34m\u001b[0m\u001b[0m\n\u001b[0;32m-> 1329\u001b[0;31m         raise ValueError(\n\u001b[0m\u001b[1;32m   1330\u001b[0m             \u001b[0;34mf\"The truth value of a {type(self).__name__} is ambiguous. \"\u001b[0m\u001b[0;34m\u001b[0m\u001b[0;34m\u001b[0m\u001b[0m\n\u001b[1;32m   1331\u001b[0m             \u001b[0;34m\"Use a.empty, a.bool(), a.item(), a.any() or a.all().\"\u001b[0m\u001b[0;34m\u001b[0m\u001b[0;34m\u001b[0m\u001b[0m\n",
      "\u001b[0;31mValueError\u001b[0m: The truth value of a Series is ambiguous. Use a.empty, a.bool(), a.item(), a.any() or a.all()."
     ]
    }
   ],
   "source": [
    "# => X est la base isue de Excel\n",
    "# => Enseignants est la base créée à partir de X, liste d'enseignants (de la classe Enseignant )\n",
    "\n",
    "def readlines (base):\n",
    "    for j in range(base.shape[0]):\n",
    "        #print (j)\n",
    "        add_cours_enseignant(Enseignants, base, 1+j)\n",
    "        \n",
    "readlines (X)"
   ]
  },
  {
   "cell_type": "code",
   "execution_count": 38,
   "metadata": {},
   "outputs": [
    {
     "name": "stdout",
     "output_type": "stream",
     "text": [
      "service de  Laurent Pottier :\n",
      "L 1 UE1-A TICE  :  24.0 hetd\n",
      "L 1 UE1-A TICE  :  24.0 hetd\n",
      "L 5 UE1-B Acoustique  :  13.5 hetd\n",
      "L 5 UE1-B Acoustique  :  12.0 hetd\n",
      "L 6 UE1-B Histoire des musiques électroac  :  13.5 hetd\n",
      "L 6 UE1-B Histoire des musiques électroac  :  12.0 hetd\n",
      "M 1 UE1-2 Methodologie  :  6.0 hetd\n",
      "M 1 UE2-A3 Musique électroacoustiques  :  22.5 hetd\n",
      "M 1 UE2-A3 Musique électroacoustiques  :  6.0 hetd\n",
      "total : 133.5 hetd\n"
     ]
    },
    {
     "data": {
      "text/plain": [
       "133.5"
      ]
     },
     "execution_count": 38,
     "metadata": {},
     "output_type": "execute_result"
    }
   ],
   "source": [
    "def service(LEnseignants, nom_enseignant):    \n",
    "    liste_enseignants = noms_enseignants(LEnseignants)\n",
    "    nth = liste_enseignants.index(nom_enseignant)\n",
    "    enseignant = LEnseignants[nth]\n",
    "    cours = enseignant.cours\n",
    "    service = 0\n",
    "    print(\"service de \", enseignant.prenom,  nom_enseignant, \":\")\n",
    "    for j in range(len(cours)):\n",
    "        duree = cours[j].duree\n",
    "        nseances = cours[j].nseances\n",
    "        groupes = cours[j].groupes\n",
    "        enseignement = cours[j].enseignement\n",
    "        formation = enseignement.formation\n",
    "        semestre = int(enseignement.semestre)\n",
    "        code = enseignement.code\n",
    "        titre = enseignement.titre\n",
    "        TD_CM = coefTDCM(cours[j].type)\n",
    "        hetd = duree * nseances * groupes * TD_CM\n",
    "        print(formation, semestre, code, titre, \" : \" ,hetd, \"hetd\")\n",
    "        service += hetd\n",
    "    print (\"total :\", service, \"hetd\")\n",
    "    return service\n",
    "\n",
    "def coefTDCM(typ):\n",
    "    if(typ==\"TD\"):\n",
    "        coef = 1\n",
    "    elif(typ==\"CM\"):\n",
    "        coef = 1.5 \n",
    "    else:\n",
    "        coef = 0 \n",
    "    return coef\n",
    "        \n",
    "        \n",
    "service(Enseignants, 'Pottier')"
   ]
  },
  {
   "cell_type": "code",
   "execution_count": 39,
   "metadata": {},
   "outputs": [
    {
     "name": "stdout",
     "output_type": "stream",
     "text": [
      "['Pottier', 'Cailliez', 'Obali', 'Clerc', 'Fargeton', 'Waschbüsch', 'Houles', 'M', 'Bertrand', 'Petiet', 'Damon-Guillot', 'Rascle', 'Desmet', 'Tracy', 'Fuchs', 'Forment', 'Bardot', 'Terras', 'Viallon', 'Garde', 'Delaigue', 'Moussart', 'Aliot', 'Carinola', 'Michon', 'Jouve Villard', 'Nosella', 'Ezequel']\n",
      "service de  Laurent Pottier :\n",
      "L 1 UE1-A TICE  :  24.0 hetd\n",
      "L 1 UE1-A TICE  :  24.0 hetd\n",
      "L 5 UE1-B Acoustique  :  13.5 hetd\n",
      "L 5 UE1-B Acoustique  :  12.0 hetd\n",
      "L 6 UE1-B Histoire des musiques électroac  :  13.5 hetd\n",
      "L 6 UE1-B Histoire des musiques électroac  :  12.0 hetd\n",
      "M 1 UE1-2 Methodologie  :  6.0 hetd\n",
      "M 1 UE2-A3 Musique électroacoustiques  :  22.5 hetd\n",
      "M 1 UE2-A3 Musique électroacoustiques  :  6.0 hetd\n",
      "total : 133.5 hetd\n",
      "service de  Matthieu Cailliez :\n",
      "L 1 UE1-B Methodologie  :  18.0 hetd\n",
      "L 1 UE1-B Methodologie  :  18.0 hetd\n",
      "L 1 UE1-B Methodologie  :  18.0 hetd\n",
      "L 1 UE1-B Methodologie  :  18.0 hetd\n",
      "L 2 UE4 Histoire  :  24.0 hetd\n",
      "L 3 UE3-D Histoire de la musique 1800-70  :  54.0 hetd\n",
      "L 5 UE1-C Histoire de la musique 1870-1930  :  36.0 hetd\n",
      "L 5 UE3-B2 Iconographie musicale  :  18.0 hetd\n",
      "M 1 UE2-A1 Musicologie XVIII-XIXe  :  22.5 hetd\n",
      "M 1 UE2-A1 Musicologie XVIII-XIXe  :  6.0 hetd\n",
      "total : 232.5 hetd\n",
      "service de  M. Obali :\n",
      "L 1 UE2-A Français  :  18.0 hetd\n",
      "L 1 UE2-A Français  :  18.0 hetd\n",
      "L 2 UE2-A Français  :  18.0 hetd\n",
      "total : 54.0 hetd\n",
      "service de  Leo Clerc :\n",
      "L 1 UE2-B Anglais  :  18.0 hetd\n",
      "L 1 UE2-B Anglais  :  18.0 hetd\n",
      "L 2 UE2-B Anglais  :  18.0 hetd\n",
      "L 2 UE2-B Anglais  :  18.0 hetd\n",
      "L 5 UE3-A Anglais  :  18.0 hetd\n",
      "L 6 UE3-A Anglais  :  18.0 hetd\n",
      "total : 108.0 hetd\n",
      "service de  Pierre Fargeton :\n",
      "L 1 UE3-A Arts et spe-jazz  :  27.0 hetd\n",
      "L 1 UE4 Histoire  :  36.0 hetd\n",
      "L 1 UE5-B Musique d'ensemble  :  30.0 hetd\n",
      "L 2 UE5-B Musique d'ensemble  :  24.0 hetd\n",
      "L 3 UE2-D Musique d'ensemble  :  24.0 hetd\n",
      "L 3 UE3-A Jazz  :  36.0 hetd\n",
      "L 4 UE2-D Musique d'ensemble  :  24.0 hetd\n",
      "L 5 UE1-A Jazz  :  36.0 hetd\n",
      "M 2 UE2-A2 Jazz  :  22.5 hetd\n",
      "M 2 UE2-A2 Jazz  :  6.0 hetd\n",
      "total : 265.5 hetd\n",
      "service de  V. Waschbüsch :\n",
      "L 1 UE3-B Esthétique  :  27.0 hetd\n",
      "L 2 UE3-B Esthétique  :  18.0 hetd\n",
      "L 2 UE6-C Solfege initiant  :  24.0 hetd\n",
      "L 6 UE1-C Histoire de la musique après 1930  :  36.0 hetd\n",
      "L 6 UE1-C Histoire de la musique après 1930  :  36.0 hetd\n",
      "M 1 UE1-2 Methodologie  :  4.0 hetd\n",
      "M 2 UE2-A3 Musicologie XXe-XXIe  :  22.5 hetd\n",
      "M 2 UE2-A3 Musicologie XXe-XXIe  :  6.0 hetd\n",
      "AGM 3 nan Projet coll  :  10.0 hetd\n",
      "AGM 3 nan Projet perso  :  9.0 hetd\n",
      "total : 192.5 hetd\n",
      "service de  Fabien Houles :\n",
      "L 1 UE5-A Chorale  :  36.0 hetd\n",
      "L 1 UE6-A Technique analyse auditive  :  18.0 hetd\n",
      "L 1 UE6-A Technique analyse auditive  :  18.0 hetd\n",
      "L 1 UE6-B Solfege (dechiffrage chanté)  :  6.0 hetd\n",
      "L 1 UE6-B Solfege (dechiffrage chanté)  :  6.0 hetd\n",
      "L 2 UE1 Methodologie  :  18.0 hetd\n",
      "L 2 UE5-A Chorale  :  36.0 hetd\n",
      "L 2 UE6-A Technique analyse partition  :  18.0 hetd\n",
      "L 2 UE6-A Technique analyse partition  :  18.0 hetd\n",
      "L 2 UE6-B Harmonie  :  24.0 hetd\n",
      "L 2 UE6-B Harmonie  :  24.0 hetd\n",
      "L 2 UE6-C Solfege (dechiffrage chanté)  :  6.0 hetd\n",
      "L 2 UE6-C Solfege (dechiffrage chanté)  :  6.0 hetd\n",
      "L 3 UE1-B Chorale  :  0.0 hetd\n",
      "L 3 UE2-A Harmonie  :  24.0 hetd\n",
      "L 3 UE3-C Analyse sur partitions  :  27.0 hetd\n",
      "L 4 UE1-B Chorale  :  0.0 hetd\n",
      "L 4 UE2-A Harmonie  :  24.0 hetd\n",
      "L 4 UE3-C Analyse auditive  :  27.0 hetd\n",
      "L 5 UE2-D Direction de choeur  :  24.0 hetd\n",
      "L 6 UE2-D Direction de choeur  :  24.0 hetd\n",
      "total : 384.0 hetd\n",
      "service de  etudiant M :\n",
      "L 1 UE6-A Technique analyse auditive  :  12.0 hetd\n",
      "L 2 UE5-C Atelier info mus  :  24.0 hetd\n",
      "L 2 UE6-A Technique analyse partition  :  12.0 hetd\n",
      "total : 48.0 hetd\n",
      "service de  Valérie Bertrand :\n",
      "L 1 UE6-B Solfege  :  24.0 hetd\n",
      "L 1 UE6-B Solfege initiant  :  24.0 hetd\n",
      "L 2 UE6-C Solfege  :  24.0 hetd\n",
      "L 2 UE6-C Solfege initiant  :  24.0 hetd\n",
      "L 3 UE2-B Solfege  :  24.0 hetd\n",
      "L 3 UE2-B Solfege  :  0.0 hetd\n",
      "L 4 UE2-B Solfege  :  24.0 hetd\n",
      "L 4 UE2-B Solfege  :  0.0 hetd\n",
      "total : 144.0 hetd\n",
      "service de  Victor Petiet :\n",
      "L 1 UE6-B Solfege  :  24.0 hetd\n",
      "L 2 UE6-C Solfege  :  24.0 hetd\n",
      "total : 48.0 hetd\n",
      "service de  Anne Damon-Guillot :\n",
      "L 1 UE6-B Solfege initiant  :  24.0 hetd\n",
      "L 2 UE3-A Arts et spe-ethno  :  18.0 hetd\n",
      "L 4 UE3-A Ethnomusicologie  :  36.0 hetd\n",
      "L 6 UE1-A Ethnomusicologie  :  30.0 hetd\n",
      "L 6 nan Enseignant référent  :  12.0 hetd\n",
      "M 1 UE1-2 Methodologie  :  6.0 hetd\n",
      "M 1 UE2-A2 Ethnomusicologie  :  22.5 hetd\n",
      "M 1 UE2-A2 Ethnomusicologie  :  6.0 hetd\n",
      "total : 154.5 hetd\n",
      "service de  Lionel Rascle :\n",
      "L 2 UE5-C Atelier info mus  :  24.0 hetd\n",
      "L 6 UE3-B2 Musique et image  :  18.0 hetd\n",
      "total : 42.0 hetd\n",
      "service de  Marc Desmet :\n",
      "L 2 nan Enseignant référent  :  18.0 hetd\n",
      "L 4 UE3-D Histoire de la musique 900-1600  :  54.0 hetd\n",
      "L 5 UE3-B1 Paléographie musicale 1  :  18.0 hetd\n",
      "L 6 UE3-B1 Paléographie musicale 1  :  18.0 hetd\n",
      "M 1 UE1-2 Methodologie  :  8.0 hetd\n",
      "M 1 UE1-4a Analyse auditive  :  9.0 hetd\n",
      "M 1 UE1-4a Analyse auditive  :  6.0 hetd\n",
      "M 2 UE2-A1 Musicologie XVIe-XVIIe  :  22.5 hetd\n",
      "M 2 UE2-A1 Musicologie XVIe-XVIIe  :  6.0 hetd\n",
      "AGM 3 nan nan  :  12.0 hetd\n",
      "total : 171.5 hetd\n",
      "service de  Leland Tracy :\n",
      "L 3 UE1-A Anglais  :  18.0 hetd\n",
      "L 4 UE1-A Anglais  :  18.0 hetd\n",
      "total : 36.0 hetd\n",
      "service de  Catherine Fuchs :\n",
      "L 3 UE2-C Accompagnement  :  20.0 hetd\n",
      "L 4 UE2-C Accompagnement  :  20.0 hetd\n",
      "L 5 UE2-E Accompagnement  :  24.0 hetd\n",
      "L 6 UE2-E Accompagnement  :  24.0 hetd\n",
      "total : 88.0 hetd\n",
      "service de  Raphael Forment :\n",
      "L 3 UE3-B Atelier d'informatique mus  :  24.0 hetd\n",
      "L 4 UE3-B Atelier d'informatique mus  :  24.0 hetd\n",
      "total : 48.0 hetd\n",
      "service de  Jean-Marc Bardot :\n",
      "L 5 UE1-C Histoire de la musique 1870-1930  :  36.0 hetd\n",
      "total : 36.0 hetd\n",
      "service de  Bastien Terras :\n",
      "L 5 UE2-A Harmonie  :  48.0 hetd\n",
      "L 6 UE2-A Harmonie  :  48.0 hetd\n",
      "total : 96.0 hetd\n",
      "service de  A. Viallon :\n",
      "L 5 UE2-B Solfège  :  48.0 hetd\n",
      "L 6 UE2-B Solfège  :  48.0 hetd\n",
      "total : 96.0 hetd\n",
      "service de  Cédric Garde :\n",
      "L 5 UE2-C Pratique vocale individuelle  :  24.0 hetd\n",
      "L 6 UE2-C Pratique vocale individuelle  :  36.0 hetd\n",
      "total : 60.0 hetd\n",
      "service de  Nicolas Delaigue :\n",
      "L 6 UE1-A Ethnomusicologie  :  6.0 hetd\n",
      "total : 6.0 hetd\n",
      "service de  Arnaud Moussart :\n",
      "M 1 UE1-1 Anglais  :  18.0 hetd\n",
      "M 2 UE1-1 Anglais  :  18.0 hetd\n",
      "total : 36.0 hetd\n",
      "service de  Greg Aliot :\n",
      "M 1 UE1-4b Techniques de studio  :  20.0 hetd\n",
      "total : 20.0 hetd\n",
      "service de  Vincent Carinola :\n",
      "M 1 UE1-4b Techniques de studio  :  10.0 hetd\n",
      "total : 10.0 hetd\n",
      "service de  Romain Michon :\n",
      "M 1 UE2-B5 Atelier d'informatique musicale  :  9.0 hetd\n",
      "M 1 UE2-B5 Atelier d'informatique musicale  :  6.0 hetd\n",
      "total : 15.0 hetd\n",
      "service de  Laure Jouve Villard :\n",
      "M 2 UE2-B3 Mediation culturelle  :  nan hetd\n",
      "total : nan hetd\n",
      "service de  Carole Nosella :\n",
      "M 2 UE2-B4 Espaces et réseaux  :  nan hetd\n",
      "total : nan hetd\n",
      "service de  Philippe Ezequel :\n",
      "M 2 UE2-B5 Initiation à la programmation  :  9.0 hetd\n",
      "M 2 UE2-B5 Initiation à la programmation  :  6.0 hetd\n",
      "total : 15.0 hetd\n"
     ]
    }
   ],
   "source": [
    "liste_enseignants = noms_enseignants(Enseignants)\n",
    "print (liste_enseignants)\n",
    "#print (liste_enseignants.index('Pottier'))\n",
    "#cours1 = (Enseignants[2].cours)\n",
    "#print (len(cours1))\n",
    "#print (\"durée :\" , cours1[1].duree)\n",
    "\n",
    "def services(LEnseignants):\n",
    "    liste_enseignants = noms_enseignants(Enseignants)\n",
    "    for i in range (len(liste_enseignants)):\n",
    "        service(Enseignants, liste_enseignants[i])\n",
    "        \n",
    "services(Enseignants)\n"
   ]
  },
  {
   "cell_type": "code",
   "execution_count": null,
   "metadata": {},
   "outputs": [],
   "source": []
  },
  {
   "cell_type": "code",
   "execution_count": null,
   "metadata": {},
   "outputs": [],
   "source": []
  }
 ],
 "metadata": {
  "kernelspec": {
   "display_name": "Python 3",
   "language": "python",
   "name": "python3"
  },
  "language_info": {
   "codemirror_mode": {
    "name": "ipython",
    "version": 3
   },
   "file_extension": ".py",
   "mimetype": "text/x-python",
   "name": "python",
   "nbconvert_exporter": "python",
   "pygments_lexer": "ipython3",
   "version": "3.8.5"
  }
 },
 "nbformat": 4,
 "nbformat_minor": 4
}
